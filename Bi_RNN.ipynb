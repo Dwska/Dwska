{
 "cells": [
  {
   "cell_type": "markdown",
   "id": "aaa26c03-0787-4912-8504-b45ab28bf7ea",
   "metadata": {
    "editable": true,
    "jp-MarkdownHeadingCollapsed": true,
    "slideshow": {
     "slide_type": ""
    },
    "tags": []
   },
   "source": [
    "# Config"
   ]
  },
  {
   "cell_type": "markdown",
   "id": "684c5daa-58e3-4428-8350-6f2b20f88ecb",
   "metadata": {},
   "source": [
    "**Import Library**\n",
    "1. Imports the PyTorch library, which is provides core functionalities for tensor operations and deep learning.\n",
    "2. The `nn` module contains classes and functions to build neural networks, including layers, loss functions, and activation functions.\n",
    "3. The `torchvision` provides tools for image processing and computer vision tasks. It includes datasets, model architectures, and image transformations.\n",
    "4. This `transforms` module from `torchvision` contains various image transformation functions that can be applied to datasets, such as resizing, normalization, and data augmentation."
   ]
  },
  {
   "cell_type": "code",
   "execution_count": 223,
   "id": "4d082481-a713-48ef-a428-d40241f3b44b",
   "metadata": {},
   "outputs": [],
   "source": [
    "import torch \n",
    "import torch.nn as nn\n",
    "import torchvision\n",
    "import torchvision.transforms as transforms"
   ]
  },
  {
   "cell_type": "code",
   "execution_count": 224,
   "id": "6416fe52-9484-4fe2-9084-c265db97c721",
   "metadata": {
    "editable": true,
    "slideshow": {
     "slide_type": ""
    },
    "tags": []
   },
   "outputs": [
    {
     "name": "stdout",
     "output_type": "stream",
     "text": [
      "GPU is available\n",
      "Current device: 0\n",
      "Device name: NVIDIA GeForce RTX 3060 Laptop GPU\n"
     ]
    }
   ],
   "source": [
    "if torch.cuda.is_available():\n",
    "    print(\"GPU is available\")\n",
    "    print(\"Current device:\", torch.cuda.current_device())\n",
    "    print(\"Device name:\", torch.cuda.get_device_name(torch.cuda.current_device()))\n",
    "else:\n",
    "    print(\"GPU is not available, using CPU\")"
   ]
  },
  {
   "cell_type": "code",
   "execution_count": 225,
   "id": "dc67f162-f809-4fdb-895a-1c56b56280d2",
   "metadata": {},
   "outputs": [
    {
     "name": "stdout",
     "output_type": "stream",
     "text": [
      "cuda\n"
     ]
    }
   ],
   "source": [
    "# Device configuration\n",
    "device = torch.device('cuda' if torch.cuda.is_available() else 'cpu')\n",
    "print(device)"
   ]
  },
  {
   "cell_type": "markdown",
   "id": "3c161ff5-243e-495c-9886-48268ba62f39",
   "metadata": {
    "jp-MarkdownHeadingCollapsed": true
   },
   "source": [
    "# Hyper-parameters"
   ]
  },
  {
   "cell_type": "markdown",
   "id": "6aea2ac7-4922-4ba5-bd3f-0bfef5d5c668",
   "metadata": {},
   "source": [
    "### Assistant\n",
    "1. **sequence_length**: This parameter defines the length of the input sequences that the network will process. In a BRNN, the model needs to know how many time steps it should consider for each input sequence. For example, if you're working with time series data or sentences, this parameter determines how many time steps (or words) the model will look at in each input.\n",
    "\n",
    "2. **input_size**: This represents the number of features in each time step of the input sequence. For instance, if you're working with images, this could be the number of pixels, or if you're working with text, it could be the size of the word embeddings. In a BRNN, each time step's input is fed into the network, and the input size determines how much information is provided at each step.\n",
    "\n",
    "3. **hidden_size**: This parameter specifies the number of hidden units in the recurrent layers of the network. In a BRNN, there are typically two sets of hidden layers (one processing the sequence in the forward direction and the other in the backward direction). The hidden size determines the capacity of the model to learn complex patterns in the data.\n",
    "\n",
    "4. **num_layers**: This indicates the number of stacked recurrent layers in the network. A BRNN can have multiple layers of recurrent units, allowing the model to learn hierarchical representations of the input data. More layers can help capture more complex patterns but may also increase the risk of overfitting.\n",
    "\n",
    "5. **num_classes**: This parameter is relevant when the BRNN is used for classification tasks. It defines the number of output classes that the model will predict. For example, in a sentiment analysis task, this could be the number of sentiment categories (positive, negative, neutral).\n",
    "\n",
    "6. **batch_size**: This defines the number of training examples used in one iteration of training. In the context of a BRNN, the batch size affects how the model learns from the data. A larger batch size can lead to more stable gradient estimates but may require more memory.\n",
    "\n",
    "7. **num_epochs**: This parameter specifies how many times the entire training dataset will be passed through the network during training. In a BRNN, the number of epochs can influence how well the model learns the underlying patterns in the data. Too few epochs may lead to underfitting, while too many can lead to overfitting.\n",
    "\n",
    "8. **learning_rate**: This is a critical hyperparameter that controls how much to change the model's weights with respect to the loss gradient during training. In a BRNN, an appropriate learning rate is essential for effective training. A learning rate that is too high can cause the model to converge too quickly to a suboptimal solution, while a learning rate that is too low can make the training process very slow.\n",
    "\n",
    "In summary, these hyperparameters collectively define the architecture and training process of a Bidirectional Recurrent Neural Network, influencing its ability to learn from sequential data effectively. Adjusting these parameters can significantly impact the model's performance on tasks such as language modeling, time series prediction, and sequence classification."
   ]
  },
  {
   "cell_type": "code",
   "execution_count": 228,
   "id": "0833511b-a414-4026-abc5-b7998057470d",
   "metadata": {},
   "outputs": [],
   "source": [
    "# Define the length of the input sequence\n",
    "sequence_length = 28\n",
    "\n",
    "# Define the size of each input feature\n",
    "input_size = 28\n",
    "\n",
    "# Define the number of hidden units in the LSTM layer\n",
    "hidden_size = 128\n",
    "\n",
    "# Define the number of layers in the LSTM\n",
    "num_layers = 2\n",
    "\n",
    "# Define the number of output classes for classification\n",
    "num_classes = 10\n",
    "\n",
    "# Define the batch size for training\n",
    "batch_size = 100\n",
    "\n",
    "# Define the number of epochs for training\n",
    "num_epochs = 2\n",
    "\n",
    "# Define the learning rate for the optimizer\n",
    "learning_rate = 0.003"
   ]
  },
  {
   "cell_type": "markdown",
   "id": "fb634019-0914-4a66-93f8-28997dcc1480",
   "metadata": {
    "jp-MarkdownHeadingCollapsed": true
   },
   "source": [
    "# Load Dataset"
   ]
  },
  {
   "cell_type": "markdown",
   "id": "d66f855e-6e73-45ba-9397-0a752f3c9695",
   "metadata": {},
   "source": [
    "1. **Loading the MNIST Dataset**:\n",
    "   - `train_dataset = torchvision.datasets.MNIST(...)` - This line loads the MNIST training dataset. \n",
    "     - `train=True` indicates that this is the training dataset.\n",
    "     - `transform=transforms.ToTensor()` converts the images to PyTorch tensors, which is necessary for processing in neural networks.\n",
    "     - `download=True` allows the dataset to be downloaded if it is not already present in the specified directory.\n",
    "\n",
    "2. **Creating Data Loaders**:\n",
    "   - `train_loader = torch.utils.data.DataLoader(...)` - This line creates a data loader for the training dataset.\n",
    "     - `dataset=train_dataset` specifies the dataset to load.\n",
    "     - `batch_size=batch_size` sets the number of samples to be loaded in each batch (the variable `batch_size` should be defined elsewhere in the code).\n",
    "     - `shuffle=True` randomizes the order of the data at every epoch, which helps improve model training.\n",
    "\n",
    "   - `test_loader = torch.utils.data.DataLoader(...)` - This line creates a data loader for the test dataset.\n",
    "     - `dataset=test_dataset` specifies the dataset to load.\n",
    "     - `batch_size=batch_size` sets the number of samples per batch.\n",
    "     - `shuffle=False` indicates that the test data should not be shuffled, maintaining the original order for evaluation.\n",
    "\n",
    "Overall, this code snippet prepares the MNIST dataset for training and testing by loading the data and creating data loaders that facilitate batch processing."
   ]
  },
  {
   "cell_type": "code",
   "execution_count": 231,
   "id": "8e87791e-d2b9-4cd4-bd1b-fd403583c76f",
   "metadata": {},
   "outputs": [],
   "source": [
    "# MNIST dataset\n",
    "train_dataset = torchvision.datasets.MNIST(root='./Dataset_DL',\n",
    "                                           train=True, \n",
    "                                           transform=transforms.ToTensor(),\n",
    "                                           download=True)\n",
    "\n",
    "test_dataset = torchvision.datasets.MNIST(root='./Dataset_DL',\n",
    "                                          train=False, \n",
    "                                          transform=transforms.ToTensor())\n",
    "\n",
    "# Data loader\n",
    "train_loader = torch.utils.data.DataLoader(dataset=train_dataset,\n",
    "                                           batch_size=batch_size, \n",
    "                                           shuffle=True)\n",
    "\n",
    "test_loader = torch.utils.data.DataLoader(dataset=test_dataset,\n",
    "                                          batch_size=batch_size, \n",
    "                                          shuffle=False)"
   ]
  },
  {
   "cell_type": "code",
   "execution_count": 232,
   "id": "37ff86b8-b04d-4a55-8a64-d97ce9a63048",
   "metadata": {},
   "outputs": [
    {
     "name": "stdout",
     "output_type": "stream",
     "text": [
      "Size of the training dataset: 60000\n",
      "Size of the test dataset: 10000\n"
     ]
    }
   ],
   "source": [
    "# Print the size of the datasets\n",
    "print(\"Size of the training dataset:\", len(train_dataset))  # Number of training samples\n",
    "print(\"Size of the test dataset:\", len(test_dataset))      # Number of test samples"
   ]
  },
  {
   "cell_type": "markdown",
   "id": "5b8d1a4f-febc-498b-b8f3-159aa58beac3",
   "metadata": {
    "jp-MarkdownHeadingCollapsed": true
   },
   "source": [
    "# Model"
   ]
  },
  {
   "cell_type": "markdown",
   "id": "3c528662-952f-4ab0-bb96-d112746d15f3",
   "metadata": {},
   "source": [
    "**Bidirectional recurrent neural network (many-to-one)**"
   ]
  },
  {
   "cell_type": "code",
   "execution_count": 235,
   "id": "806d3567-8b1f-4119-ab89-45ae3db63534",
   "metadata": {},
   "outputs": [],
   "source": [
    "# This line defines a new class `BiRNN` that inherits from `nn.Module`, which is a base class for all neural network modules in PyTorch.\n",
    "class BiRNN(nn.Module):\n",
    "    # Constructor Method\n",
    "    def __init__(self, input_size, hidden_size, num_layers, num_classes):\n",
    "        # Super Constructor\n",
    "        super(BiRNN, self).__init__()\n",
    "        self.hidden_size = hidden_size\n",
    "        self.num_layers = num_layers\n",
    "        # This line creates an LSTM layer with the specified input size, hidden size, and number of layers.\n",
    "        # The `batch_first=True` argument indicates that the input tensors will have the batch size as the first dimension.\n",
    "        # The `bidirectional=True` allowing the LSTM to process the input sequence in both forward and backward directions.\n",
    "        self.lstm = nn.LSTM(input_size, hidden_size, num_layers, batch_first=True, bidirectional=True)\n",
    "        # This line defines a fully connected (linear) layer that takes the output from the LSTM\n",
    "        # and maps it to the number of output classes.\n",
    "        self.fc = nn.Linear(hidden_size*2, num_classes)  # 2 for bidirection\n",
    "    \n",
    "    def forward(self, x): # `x` is the input tensor\n",
    "        # Set initial states to zero value\n",
    "        h0 = torch.zeros(self.num_layers*2, x.size(0), self.hidden_size).to(device) # 2 for bidirection \n",
    "        c0 = torch.zeros(self.num_layers*2, x.size(0), self.hidden_size).to(device)\n",
    "        \n",
    "        # Forward propagate LSTM\n",
    "        out, _ = self.lstm(x, (h0, c0))  # out: tensor of shape (batch_size, seq_length, hidden_size*2)\n",
    "        \n",
    "        # Decode the hidden state of the last time step\n",
    "        #  - `:` - The first colon selects all batches in the batch dimension.\n",
    "        # - `-1` - The `-1` index selects the last time step in the sequence for each batch.\n",
    "        # - `:` - The second colon selects all features in the hidden state dimension (which is `hidden_size*2`).\n",
    "        out = self.fc(out[:, -1, :])\n",
    "        return out"
   ]
  },
  {
   "cell_type": "code",
   "execution_count": 236,
   "id": "e9f707d1-b229-4446-b946-392b6346ee7f",
   "metadata": {},
   "outputs": [],
   "source": [
    "model = BiRNN(input_size, hidden_size, num_layers, num_classes).to(device)"
   ]
  },
  {
   "cell_type": "markdown",
   "id": "12c7b707-2b95-4659-bec8-fd3078dba2fd",
   "metadata": {
    "jp-MarkdownHeadingCollapsed": true
   },
   "source": [
    "# Loss Function and optimizer\n",
    "- `nn.CrossEntropyLoss()` It combines log softmax and negative log likelihood loss in one single function.\n",
    "- `torch.optim.Adam`: This is an adaptive optimizer based on a combination of momentum and root mean square propagation (RMSprop). It adjusts the learning rate for each parameter individually, making it highly effective for complex models and tasks.\n",
    "- `model.parameters()`: This passes all the parameters of the model to the optimizer, which will be updated during training."
   ]
  },
  {
   "cell_type": "markdown",
   "id": "e3b77180-af46-4bd0-9192-e68b85b4a70d",
   "metadata": {},
   "source": [
    "**Alternatives**:\n",
    "- Loss Function\n",
    "  1. `nn.BCEWithLogitsLoss()`: Binary classification or multi-label classification where each label is independent. This is a combination of sigmoid activation and binary cross-entropy in one function. Use this when you don't apply a sigmoid in the model output.\n",
    "  2. `nn.NLLLoss()`(Negative Log Likelihood Loss): Used for multi-class classification, similar to `CrossEntropyLoss`. Requires the model output to pass through a log-softmax activation function, i.e., the logits should be transformed into log-probabilities before applying NLLLoss. using `nn.LogSoftmax(dim=1)`.\n",
    "  3. `nn.LabelSmoothingLoss`: Used to avoid overconfidence in classification by smoothing the hard labels, particularly in tasks where overfitting can happen easily. This loss function slightly relaxes the assumption that each sample belongs 100% to one class by distributing a small probability mass to the other classes.\n",
    "- Optimizer\n",
    "  1. `torch.optim.SGD` (Stochastic Gradient Descent): basic optimizers that updates parameters using the gradient of the loss function. It can be combined with momentum to speed up convergence.\n",
    "  2. `torch.optim.RMSprop`: Useful for dealing with non-stationary objectives (like training recurrent networks). It divides the learning rate by a running average of the magnitudes of recent gradients."
   ]
  },
  {
   "cell_type": "code",
   "execution_count": 239,
   "id": "ca9c5792-0ddd-4963-905c-565dc91ae615",
   "metadata": {},
   "outputs": [],
   "source": [
    "criterion = nn.CrossEntropyLoss()\n",
    "optimizer = torch.optim.Adam(model.parameters(), lr=learning_rate)"
   ]
  },
  {
   "cell_type": "markdown",
   "id": "ade51149-ad63-432a-bf61-950c88a64c4f",
   "metadata": {},
   "source": [
    "# Training"
   ]
  },
  {
   "cell_type": "code",
   "execution_count": 250,
   "id": "6b5630c1-6abf-40bf-8aca-e0c4ef7b1a04",
   "metadata": {},
   "outputs": [
    {
     "name": "stdout",
     "output_type": "stream",
     "text": [
      "Epoch [1/2], Step [100/600], Loss: 0.9063\n",
      "Epoch [1/2], Step [200/600], Loss: 0.6750\n",
      "Epoch [1/2], Step [300/600], Loss: 0.4792\n",
      "Epoch [1/2], Step [400/600], Loss: 0.2990\n",
      "Epoch [1/2], Step [500/600], Loss: 0.2599\n",
      "Epoch [1/2], Step [600/600], Loss: 0.1685\n",
      "Epoch [2/2], Step [100/600], Loss: 0.3232\n",
      "Epoch [2/2], Step [200/600], Loss: 0.1384\n",
      "Epoch [2/2], Step [300/600], Loss: 0.2396\n",
      "Epoch [2/2], Step [400/600], Loss: 0.1806\n",
      "Epoch [2/2], Step [500/600], Loss: 0.1158\n",
      "Epoch [2/2], Step [600/600], Loss: 0.0563\n"
     ]
    }
   ],
   "source": [
    "import matplotlib.pyplot as plt\n",
    "\n",
    "# Initialize a list to store the loss values for each iteration\n",
    "loss_list = []\n",
    "\n",
    "total_step = len(train_loader) # Total number of batches in the dataset\n",
    "for epoch in range(num_epochs): \n",
    "    # images: The input data (e.g., images for computer vision tasks).\n",
    "    for i, (images, labels) in enumerate(train_loader): # Loop over each batch in the data loader\n",
    "        # The images tensor is reshaped to match the expected input dimensions of the model.\n",
    "        # -1: This automatically infers the batch size, which can vary depending on how the data is loaded.\n",
    "        images = images.reshape(-1, sequence_length, input_size).to(device) \n",
    "        labels = labels.to(device)\n",
    "        \n",
    "        # Forward pass\n",
    "        outputs = model(images) # outputs, which are predictions for the input batch.\n",
    "        loss = criterion(outputs, labels) # The loss is a measure of how far the model’s predictions are from the actual labels (SMALL GOOD)\n",
    "        \n",
    "        # Backward and optimize\n",
    "        optimizer.zero_grad() # Resets the gradients for the next backward pass.\n",
    "        loss.backward() # Computes the gradients of the loss function with respect to the model's parameters.\n",
    "        optimizer.step() # Performs a single optimization step (parameter update) based on the computed gradients.\n",
    "\n",
    "        if (i+1) % 50 == 0:\n",
    "            loss_list.append(loss.item())\n",
    "        \n",
    "        # loss.item(): The current loss value, converted from a tensor to a scalar for easier display. \n",
    "        # The loss is printed with a precision of 4 decimal places.\n",
    "        if (i+1) % 100 == 0:\n",
    "            # Store the loss value for visualization\n",
    "            print ('Epoch [{}/{}], Step [{}/{}], Loss: {:.4f}' \n",
    "                   .format(epoch+1, num_epochs, i+1, total_step, loss.item())) "
   ]
  },
  {
   "cell_type": "markdown",
   "id": "c30f647e-ebc6-4682-8a8b-8554e5a8f1d8",
   "metadata": {
    "jp-MarkdownHeadingCollapsed": true
   },
   "source": [
    "# Testing"
   ]
  },
  {
   "cell_type": "code",
   "execution_count": 251,
   "id": "603d2fa4-afa2-45d4-ba21-19cc953066ad",
   "metadata": {},
   "outputs": [
    {
     "name": "stdout",
     "output_type": "stream",
     "text": [
      "Test Accuracy of the model on the 10000 test images: 96.55 %\n"
     ]
    }
   ],
   "source": [
    "with torch.no_grad(): # To disable gradient tracking and computation during inference\n",
    "    correct = 0\n",
    "    total = 0\n",
    "    for images, labels in test_loader:\n",
    "        images = images.reshape(-1, sequence_length, input_size).to(device)\n",
    "        labels = labels.to(device)\n",
    "        outputs = model(images) # A forward pass for prediction\n",
    "        # returns two values: The maximum value along dimension 1 (the class scores)\n",
    "        # The index of the maximum value, which corresponds to the predicted class.\n",
    "        # predicted: The index of the highest-scoring class is stored in the predicted variable.\n",
    "        _, predicted = torch.max(outputs.data, 1)  \n",
    "        total += labels.size(0)\n",
    "        correct += (predicted == labels).sum().item()\n",
    "\n",
    "    print('Test Accuracy of the model on the 10000 test images: {} %'.format(100 * correct / total))"
   ]
  },
  {
   "cell_type": "markdown",
   "id": "f4231768-7f78-49cf-a638-4116213294e3",
   "metadata": {
    "jp-MarkdownHeadingCollapsed": true
   },
   "source": [
    "# Result"
   ]
  },
  {
   "cell_type": "markdown",
   "id": "3f3364ec-1036-44e5-af33-8c4e775b1202",
   "metadata": {},
   "source": [
    "**Visual Loss on Training**"
   ]
  },
  {
   "cell_type": "code",
   "execution_count": 252,
   "id": "64f05c5e-3de0-4ec5-a5e5-abae9a53da9b",
   "metadata": {},
   "outputs": [
    {
     "data": {
      "image/png": "[encoded data removed]",
      "text/plain": [
       "<Figure size 1000x500 with 1 Axes>"
      ]
     },
     "metadata": {},
     "output_type": "display_data"
    }
   ],
   "source": [
    "# After training, plot the loss curve\n",
    "plt.figure(figsize=(10,5))\n",
    "plt.plot(loss_list, label='Training Loss', marker='o')\n",
    "\n",
    "# Annotate each point with its value\n",
    "# for i, value in enumerate(loss_list):\n",
    "#     plt.text(i, \n",
    "#         value, \n",
    "#         f'{value:.2f}', \n",
    "#         fontsize=12, \n",
    "#         ha='right'\n",
    "#             ) \n",
    "\n",
    "plt.xlabel('Iteration for every 50 Steps in 100 Batch')\n",
    "plt.ylabel('Loss')\n",
    "plt.title('Training Loss vs Iterations')\n",
    "plt.legend()\n",
    "plt.grid(True)  # Optional\n",
    "plt.show()"
   ]
  },
  {
   "cell_type": "markdown",
   "id": "8f9ff589-6000-4937-b338-88a1950fcc19",
   "metadata": {},
   "source": [
    "Save the model**"
   ]
  },
  {
   "cell_type": "code",
   "execution_count": 82,
   "id": "0e121e00-0555-4ad4-914d-36000b0bd819",
   "metadata": {},
   "outputs": [],
   "source": [
    "torch.save(model.state_dict(), r'.\\Model\\modelBi_RNN.ckpt')"
   ]
  }
 ],
 "metadata": {
  "kernelspec": {
   "display_name": "PersonalProjects",
   "language": "python",
   "name": "personalprojects"
  },
  "language_info": {
   "codemirror_mode": {
    "name": "ipython",
    "version": 3
   },
   "file_extension": ".py",
   "mimetype": "text/x-python",
   "name": "python",
   "nbconvert_exporter": "python",
   "pygments_lexer": "ipython3",
   "version": "3.12.4"
  }
 },
 "nbformat": 4,
 "nbformat_minor": 5
}
